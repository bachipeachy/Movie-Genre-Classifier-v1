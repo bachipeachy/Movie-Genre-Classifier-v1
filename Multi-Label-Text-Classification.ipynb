{
 "cells": [
  {
   "cell_type": "code",
   "execution_count": 1,
   "metadata": {},
   "outputs": [],
   "source": [
    "import tensorflow as tf\n",
    "from tensorflow.keras import Sequential\n",
    "from tensorflow.keras.callbacks import EarlyStopping \n",
    "from tensorflow.keras.preprocessing.text import Tokenizer\n",
    "from tensorflow.keras.preprocessing.sequence import pad_sequences\n",
    "from tensorflow.keras import Model\n",
    "from tensorflow.keras.layers import LSTM, Dense, Embedding, Input\n",
    "from tensorflow.keras.utils import plot_model\n",
    "from tensorflow.keras.utils import Progbar\n",
    "\n",
    "import time \n",
    "import pandas as pd\n",
    "import numpy as np\n",
    "import json\n",
    "import re\n",
    "import math\n",
    "from sklearn.model_selection import train_test_split\n",
    "import matplotlib.pyplot as plt\n",
    "import nltk\n",
    "from nltk.corpus import stopwords\n",
    "\n",
    "from bs4 import BeautifulSoup\n",
    "from sklearn.preprocessing import MultiLabelBinarizer\n"
   ]
  },
  {
   "cell_type": "code",
   "execution_count": 2,
   "metadata": {},
   "outputs": [
    {
     "data": {
      "text/html": [
       "        <script type=\"text/javascript\">\n",
       "        window.PlotlyConfig = {MathJaxConfig: 'local'};\n",
       "        if (window.MathJax) {MathJax.Hub.Config({SVG: {font: \"STIX-Web\"}});}\n",
       "        if (typeof require !== 'undefined') {\n",
       "        require.undef(\"plotly\");\n",
       "        requirejs.config({\n",
       "            paths: {\n",
       "                'plotly': ['https://cdn.plot.ly/plotly-latest.min']\n",
       "            }\n",
       "        });\n",
       "        require(['plotly'], function(Plotly) {\n",
       "            window._Plotly = Plotly;\n",
       "        });\n",
       "        }\n",
       "        </script>\n",
       "        "
      ]
     },
     "metadata": {},
     "output_type": "display_data"
    }
   ],
   "source": [
    "import cufflinks as cf\n",
    "cf.go_offline()\n",
    "cf.set_config_file(offline=False, world_readable=True)"
   ]
  },
  {
   "cell_type": "code",
   "execution_count": 3,
   "metadata": {
    "scrolled": true
   },
   "outputs": [
    {
     "name": "stdout",
     "output_type": "stream",
     "text": [
      "TensorFlow version: 2.1.0\n",
      "Eager execution: True\n"
     ]
    }
   ],
   "source": [
    "print(\"TensorFlow version: {}\".format(tf.__version__))\n",
    "print(\"Eager execution: {}\".format(tf.executing_eagerly()))"
   ]
  },
  {
   "cell_type": "code",
   "execution_count": 4,
   "metadata": {},
   "outputs": [],
   "source": [
    "VOCAB_WORDLIMIT = 20000\n",
    "SEQUENCE_LEN = 2000\n",
    "BATCH_SIZE = 210\n",
    "EPOCHS = 5\n",
    "LEARNING_RATE = 1e-3\n",
    "\n",
    "REPLACE_BY_SPACE_RE = re.compile('[/(){}\\[\\]\\|@,;]')\n",
    "BAD_SYMBOLS_RE = re.compile('[^0-9a-z #+_]')\n",
    "STOPWORDS = set(stopwords.words('english'))"
   ]
  },
  {
   "cell_type": "code",
   "execution_count": 5,
   "metadata": {},
   "outputs": [],
   "source": [
    "def clean_text(text):\n",
    " text = BeautifulSoup(text, \"lxml\").text\n",
    " text = text.lower() # lowercase text\n",
    " text = REPLACE_BY_SPACE_RE.sub(' ', text)\n",
    " text = BAD_SYMBOLS_RE.sub('', text)\n",
    " text = ' '.join(word for word in text.split() if word not in STOPWORDS)\n",
    " return text"
   ]
  },
  {
   "cell_type": "code",
   "execution_count": 6,
   "metadata": {},
   "outputs": [],
   "source": [
    "def download_movie_file(movie_file):\n",
    "    df_movie = pd.read_csv(movie_file, engine='python', sep = '\\t', header = None,\n",
    "                     quotechar='\"', error_bad_lines=False, warn_bad_lines=False)\n",
    "    df_movie.info()\n",
    "    return df_movie"
   ]
  },
  {
   "cell_type": "code",
   "execution_count": 7,
   "metadata": {},
   "outputs": [
    {
     "name": "stdout",
     "output_type": "stream",
     "text": [
      "<class 'pandas.core.frame.DataFrame'>\n",
      "RangeIndex: 81735 entries, 0 to 81734\n",
      "Data columns (total 9 columns):\n",
      " #   Column  Non-Null Count  Dtype  \n",
      "---  ------  --------------  -----  \n",
      " 0   0       81735 non-null  int64  \n",
      " 1   1       81735 non-null  object \n",
      " 2   2       81735 non-null  object \n",
      " 3   3       74833 non-null  object \n",
      " 4   4       8401 non-null   float64\n",
      " 5   5       61287 non-null  float64\n",
      " 6   6       81735 non-null  object \n",
      " 7   7       81735 non-null  object \n",
      " 8   8       81735 non-null  object \n",
      "dtypes: float64(2), int64(1), object(6)\n",
      "memory usage: 5.6+ MB\n"
     ]
    }
   ],
   "source": [
    "movie_file = 'movie.metadata.tsv'\n",
    "df_movie = download_movie_file(movie_file)"
   ]
  },
  {
   "cell_type": "code",
   "execution_count": 8,
   "metadata": {},
   "outputs": [],
   "source": [
    "def download_plot_file(plot_file):\n",
    "    df_plot = pd.read_csv(plot_file, engine='python', sep = '\\t', header = None,\n",
    "                     quotechar='\"', error_bad_lines=False, warn_bad_lines=False)\n",
    "    df_plot.info()\n",
    "    return df_plot"
   ]
  },
  {
   "cell_type": "code",
   "execution_count": 9,
   "metadata": {},
   "outputs": [
    {
     "name": "stdout",
     "output_type": "stream",
     "text": [
      "<class 'pandas.core.frame.DataFrame'>\n",
      "RangeIndex: 42171 entries, 0 to 42170\n",
      "Data columns (total 2 columns):\n",
      " #   Column  Non-Null Count  Dtype \n",
      "---  ------  --------------  ----- \n",
      " 0   0       42171 non-null  int64 \n",
      " 1   1       42171 non-null  object\n",
      "dtypes: int64(1), object(1)\n",
      "memory usage: 659.0+ KB\n"
     ]
    }
   ],
   "source": [
    "plot_file = 'plot_summaries.txt'\n",
    "df_plot = download_plot_file(plot_file)"
   ]
  },
  {
   "cell_type": "code",
   "execution_count": 10,
   "metadata": {},
   "outputs": [],
   "source": [
    "def merge_files():\n",
    "    df_movie.columns = [\"movie_id\",1,\"movie_name\",3,4,5,6,7,\"genre\"]\n",
    "    df_plot.columns = [\"movie_id\", \"plot\"]\n",
    "\n",
    "    df_movie_sub = df_movie[[\"movie_id\",\"movie_name\",\"genre\"]]\n",
    "\n",
    "    df_movie_sub = df_movie_sub[[\"movie_id\",\"movie_name\",\"genre\"]]\n",
    "    df_movie_sub['movie_id'] = df_movie_sub['movie_id'].astype(str)\n",
    "\n",
    "    df_plot['movie_id'] = df_plot['movie_id'].astype(str)\n",
    "    df_movie_merge = pd.merge(df_plot, df_movie_sub, on = 'movie_id')\n",
    "\n",
    "    genres_list = []\n",
    "    for i in df_movie_merge['genre']:\n",
    "        genres_list.append(list(json.loads(i).values()))\n",
    "\n",
    "    df_movie_merge['genre'] = genres_list\n",
    "    df_movie_merge['plot'] = df_movie_merge['plot'].apply(clean_text)\n",
    "    \n",
    "    return df_movie_merge"
   ]
  },
  {
   "cell_type": "code",
   "execution_count": 11,
   "metadata": {},
   "outputs": [],
   "source": [
    "df_movie_merge = merge_files()"
   ]
  },
  {
   "cell_type": "code",
   "execution_count": 12,
   "metadata": {},
   "outputs": [],
   "source": [
    "def hot_encode():\n",
    "    mlb = MultiLabelBinarizer()\n",
    "    mlb.fit_transform(df_movie_merge['genre'])\n",
    "    Y = mlb.transform(df_movie_merge['genre'])\n",
    "\n",
    "    print('Y hot encoded ->', type(Y), Y.shape, len(Y))\n",
    "\n",
    "    for idx, genre in enumerate(mlb.classes_):\n",
    "      df_movie_merge[genre] = Y[:,idx]\n",
    "\n",
    "    Y_labels = df_movie_merge.columns.tolist()[4::]\n",
    "    print('Y_labels ->', type(Y_labels), len(Y_labels))\n",
    "\n",
    "    assert (len(Y[1])==len(Y_labels)), \"num of labels do not match with hot enconded list\"\n",
    "    \n",
    "    return Y_labels, Y"
   ]
  },
  {
   "cell_type": "code",
   "execution_count": 13,
   "metadata": {},
   "outputs": [
    {
     "name": "stdout",
     "output_type": "stream",
     "text": [
      "Y hot encoded -> <class 'numpy.ndarray'> (42071, 362) 42071\n",
      "Y_labels -> <class 'list'> 362\n"
     ]
    }
   ],
   "source": [
    "Y_labels, Y = hot_encode()"
   ]
  },
  {
   "cell_type": "code",
   "execution_count": 14,
   "metadata": {},
   "outputs": [],
   "source": [
    "##### saving cleaneup merged movie and reloading\n",
    "def save_reload_merged_file(df_movie_merge):\n",
    "    df_movie_merge.to_csv('movie.csv')\n",
    "    movie_new = pd.read_csv('movie.csv')\n",
    "    df_movie_merge = movie_new\n",
    "    df_movie_merge.head(3)\n",
    "    return df_movie_merge"
   ]
  },
  {
   "cell_type": "code",
   "execution_count": 15,
   "metadata": {},
   "outputs": [],
   "source": [
    "df_movie_merge = save_reload_merged_file(df_movie_merge)"
   ]
  },
  {
   "cell_type": "code",
   "execution_count": 16,
   "metadata": {
    "scrolled": true
   },
   "outputs": [],
   "source": [
    "def vectorize_X_input():\n",
    "    df_movie_merge['plot'] = df_movie_merge['plot'].astype(str)\n",
    "    \n",
    "    tokenizer = Tokenizer(num_words=VOCAB_WORDLIMIT,\n",
    "                          filters='!\"#$%&()*+,-./:;<=>?@[\\]^_`{|}~', lower=True)\n",
    "    tokenizer.fit_on_texts(df_movie_merge['plot'].values)\n",
    "    movie_plot_vocab = tokenizer.word_index\n",
    "    \n",
    "    X = tokenizer.texts_to_sequences(df_movie_merge['plot'].values)\n",
    "    X = pad_sequences(X, maxlen=SEQUENCE_LEN)\n",
    "    \n",
    "    print(\"movie_plot_vocab: {}, {}, size limited to: {}\".format(\n",
    "        type(movie_plot_vocab), len(movie_plot_vocab),VOCAB_WORDLIMIT))\n",
    "\n",
    "    print('Shape of X input tensor (elements, SEQUENCE_LEN) :', X.shape)\n",
    "    \n",
    "    return X"
   ]
  },
  {
   "cell_type": "code",
   "execution_count": 17,
   "metadata": {},
   "outputs": [
    {
     "name": "stdout",
     "output_type": "stream",
     "text": [
      "movie_plot_vocab: <class 'dict'>, 184205, size limited to: 20000\n",
      "Shape of X input tensor (elements, SEQUENCE_LEN) : (42071, 2000)\n"
     ]
    }
   ],
   "source": [
    "X = vectorize_X_input()"
   ]
  },
  {
   "cell_type": "code",
   "execution_count": 18,
   "metadata": {},
   "outputs": [
    {
     "data": {
      "text/plain": [
       "((42071, 2000),\n",
       " array([[    0,     0,     0, ...,   549,  5095,   482],\n",
       "        [    0,     0,     0, ...,  1285,  2360,   419],\n",
       "        [    0,     0,     0, ..., 12879,    11,   640],\n",
       "        ...,\n",
       "        [    0,     0,     0, ...,   485,   482,    39],\n",
       "        [    0,     0,     0, ...,  3110,     2,  6817],\n",
       "        [    0,     0,     0, ...,  2725,   501,  5182]], dtype=int32))"
      ]
     },
     "execution_count": 18,
     "metadata": {},
     "output_type": "execute_result"
    }
   ],
   "source": [
    "X.shape, X"
   ]
  },
  {
   "cell_type": "code",
   "execution_count": 19,
   "metadata": {},
   "outputs": [
    {
     "data": {
      "text/plain": [
       "((42071, 362),\n",
       " array([[0, 0, 0, ..., 0, 0, 0],\n",
       "        [0, 0, 1, ..., 0, 0, 0],\n",
       "        [0, 0, 1, ..., 0, 0, 0],\n",
       "        ...,\n",
       "        [0, 0, 0, ..., 0, 0, 0],\n",
       "        [0, 0, 0, ..., 0, 0, 0],\n",
       "        [0, 0, 0, ..., 0, 0, 0]]))"
      ]
     },
     "execution_count": 19,
     "metadata": {},
     "output_type": "execute_result"
    }
   ],
   "source": [
    "Y.shape, Y"
   ]
  },
  {
   "cell_type": "code",
   "execution_count": 20,
   "metadata": {},
   "outputs": [],
   "source": [
    "assert len(X)==len(Y), \"num of 'X inputs' must be equal to num of 'Y outputs'\""
   ]
  },
  {
   "cell_type": "code",
   "execution_count": 21,
   "metadata": {},
   "outputs": [
    {
     "name": "stdout",
     "output_type": "stream",
     "text": [
      "X & Y training shapes:(420, 2000) & (420, 362)\n",
      "X & Y testing  shapes:(41651, 2000) & (41651, 362)\n",
      "X_train:\n",
      " [[    0     0     0 ...   628     8   988]\n",
      " [    0     0     0 ...    99  2043   894]\n",
      " [    0     0     0 ...   232  5249  7861]\n",
      " ...\n",
      " [    0     0     0 ...  3255    29 16117]\n",
      " [    0     0     0 ...  2587  2601  1160]\n",
      " [    0     0     0 ...   555    70  6607]]\n",
      "Y_train:\n",
      " [[0 0 0 ... 0 0 0]\n",
      " [0 0 0 ... 0 0 0]\n",
      " [0 0 0 ... 0 0 0]\n",
      " ...\n",
      " [0 0 0 ... 0 0 0]\n",
      " [0 0 0 ... 0 0 0]\n",
      " [0 0 1 ... 0 0 0]]\n"
     ]
    }
   ],
   "source": [
    "X_train, X_test, Y_train, Y_test = train_test_split(X,Y, test_size = 0.99, random_state = 42)\n",
    "print(\"X & Y training shapes:{} & {}\".format(X_train.shape, Y_train.shape))\n",
    "print(\"X & Y testing  shapes:{} & {}\".format(X_test.shape, Y_test.shape))\n",
    "print(\"X_train:\\n\", X_train)\n",
    "print(\"Y_train:\\n\", Y_train)"
   ]
  },
  {
   "cell_type": "code",
   "execution_count": 22,
   "metadata": {},
   "outputs": [],
   "source": [
    "assert len(X_train)==len(Y_train), \"num of 'X inputs' must be equal to num of 'Y outputs'\""
   ]
  },
  {
   "cell_type": "code",
   "execution_count": 23,
   "metadata": {},
   "outputs": [],
   "source": [
    "def build_model():\n",
    "    label_count = len(Y[1])\n",
    "    deep_inputs = Input(shape=(SEQUENCE_LEN,))\n",
    "    embedding_layer = Embedding(VOCAB_WORDLIMIT, 100)(deep_inputs)\n",
    "    lstm_layer_1 = LSTM(128)(embedding_layer)\n",
    "    output_layer = Dense(label_count, activation='sigmoid')(lstm_layer_1)\n",
    "    model = Model(inputs=deep_inputs, outputs=output_layer)\n",
    "    \n",
    "    return model"
   ]
  },
  {
   "cell_type": "code",
   "execution_count": 24,
   "metadata": {},
   "outputs": [
    {
     "data": {
      "image/png": "[encoded data removed]",
      "text/plain": [
       "<IPython.core.display.Image object>"
      ]
     },
     "execution_count": 24,
     "metadata": {},
     "output_type": "execute_result"
    }
   ],
   "source": [
    "model = build_model()\n",
    "plot_model(model, 'model.png', show_shapes=True)"
   ]
  },
  {
   "cell_type": "code",
   "execution_count": 25,
   "metadata": {},
   "outputs": [],
   "source": [
    "def test_model_predictions(X_test):\n",
    "    print(\"input shape and value:\", X_test.shape, '\\n', X_test, '\\n')\n",
    "    input = tf.expand_dims(X_test,0)\n",
    "    \n",
    "    Y_pred = model.predict(input)\n",
    "    print(\"predicted output shape, min, min and std deviations -> shape: {} \\nY_pred Max: {},  Y_pred Min: {}, Y_pred Std.: {}\".format(\n",
    "        Y_pred.shape, np.max(Y_pred,1),  np.min(Y_pred,1), np.std(Y_pred,1)))\n"
   ]
  },
  {
   "cell_type": "code",
   "execution_count": 26,
   "metadata": {},
   "outputs": [
    {
     "name": "stdout",
     "output_type": "stream",
     "text": [
      "input shape and value: (2000,) \n",
      " [   0    0    0 ...  549 5095  482] \n",
      "\n",
      "predicted output shape, min, min and std deviations -> shape: (1, 362) \n",
      "Y_pred Max: [0.50314367],  Y_pred Min: [0.4966852], Y_pred Std.: [0.00113463]\n"
     ]
    }
   ],
   "source": [
    "test_model_predictions(X[0])"
   ]
  },
  {
   "cell_type": "code",
   "execution_count": 27,
   "metadata": {},
   "outputs": [],
   "source": [
    "loss_object = tf.keras.losses.BinaryCrossentropy(from_logits=True)\n",
    "\n",
    "def compute_loss(model, x, y, training):\n",
    "    y_pred = model(x, training=training)\n",
    "    return loss_object(y, y_pred)\n"
   ]
  },
  {
   "cell_type": "code",
   "execution_count": 28,
   "metadata": {},
   "outputs": [],
   "source": [
    "def test_compute_loss():\n",
    "    computed_loss = compute_loss(model,\n",
    "                                 tf.expand_dims(X[0],0),\n",
    "                                 tf.expand_dims(Y[0],0),\n",
    "                                 training=False)\n",
    "    print(\"<testing compute_loss function> using X[0] and Y[0]_pred :\\ncomputed_loss = {} \".format\n",
    "          (computed_loss))"
   ]
  },
  {
   "cell_type": "code",
   "execution_count": 29,
   "metadata": {},
   "outputs": [
    {
     "name": "stdout",
     "output_type": "stream",
     "text": [
      "<testing compute_loss function> using X[0] and Y[0]_pred :\n",
      "computed_loss = 0.9712542295455933 \n"
     ]
    }
   ],
   "source": [
    "test_compute_loss()"
   ]
  },
  {
   "cell_type": "code",
   "execution_count": 30,
   "metadata": {},
   "outputs": [],
   "source": [
    "def compute_gradient(model, x, y):\n",
    "  with tf.GradientTape() as tape:\n",
    "    computed_loss = compute_loss(model, x, y, training=True)\n",
    "    computed_gradient = tape.gradient(computed_loss, model.trainable_variables)\n",
    "    \n",
    "  return computed_loss, computed_gradient"
   ]
  },
  {
   "cell_type": "code",
   "execution_count": 31,
   "metadata": {},
   "outputs": [],
   "source": [
    "def test_compute_gradient():\n",
    "    loss, gradient = compute_gradient(\n",
    "        model, tf.expand_dims(X[0],0), tf.expand_dims(Y[0],0))\n",
    "    print(\"loss for X[0] input ->\", loss)\n",
    "    print(\"gradient value for X[0], Y[0]->\", type(gradient), len(gradient))"
   ]
  },
  {
   "cell_type": "code",
   "execution_count": 32,
   "metadata": {},
   "outputs": [
    {
     "name": "stdout",
     "output_type": "stream",
     "text": [
      "loss for X[0] input -> tf.Tensor(0.9712542, shape=(), dtype=float32)\n",
      "gradient value for X[0], Y[0]-> <class 'list'> 6\n"
     ]
    }
   ],
   "source": [
    "test_compute_gradient()"
   ]
  },
  {
   "cell_type": "code",
   "execution_count": 33,
   "metadata": {},
   "outputs": [],
   "source": [
    "optimizer = tf.keras.optimizers.Adam(learning_rate=LEARNING_RATE)"
   ]
  },
  {
   "cell_type": "code",
   "execution_count": 34,
   "metadata": {},
   "outputs": [],
   "source": [
    "def test_optimization(model, x, y):\n",
    "    loss, gradient = compute_gradient(model, x, y)\n",
    "    \n",
    "    print(\"Step: {}, Initial Loss: {}\".format(\n",
    "        optimizer.iterations.numpy(), loss.numpy()))\n",
    "    \n",
    "    optimizer.apply_gradients(zip(gradient, model.trainable_variables))\n",
    "    \n",
    "    print(\"Step: {}, Optimized Loss: {}\".format(optimizer.iterations.numpy(),\n",
    "                                      compute_loss(model, x, y, training=True).numpy()))\n"
   ]
  },
  {
   "cell_type": "code",
   "execution_count": 35,
   "metadata": {},
   "outputs": [
    {
     "name": "stdout",
     "output_type": "stream",
     "text": [
      "Step: 0, Initial Loss: 0.9712542295455933\n",
      "Step: 1, Optimized Loss: 0.9708912968635559\n"
     ]
    }
   ],
   "source": [
    "test_optimization(model,\n",
    "                  tf.expand_dims(X[0],0),\n",
    "                  tf.expand_dims(Y[0],0),)\n"
   ]
  },
  {
   "cell_type": "code",
   "execution_count": 36,
   "metadata": {},
   "outputs": [],
   "source": [
    "def train_batch(x, y):\n",
    "    computed_loss, computed_gradient = compute_gradient(model, x, y)\n",
    "    optimizer.apply_gradients(zip(computed_gradient, model.trainable_variables))\n",
    "    epoch_loss_avg(computed_loss)\n",
    "    epoch_accuracy(y, model(x, training=True))\n",
    "    \n",
    "    return epoch_loss_avg, epoch_accuracy"
   ]
  },
  {
   "cell_type": "code",
   "execution_count": 37,
   "metadata": {},
   "outputs": [],
   "source": [
    "train_loss_results = []\n",
    "train_accuracy_results = []\n",
    "epoch_loss_avg = tf.keras.metrics.Mean()\n",
    "epoch_accuracy = tf.keras.metrics.BinaryAccuracy()\n",
    "\n",
    "metrics_names = ['loss','accuracy'] \n",
    "\n",
    "\n",
    "def train_all(X, Y):\n",
    "    num_of_batches = math.floor(len(X) / BATCH_SIZE)\n",
    "    for epoch in range(EPOCHS):\n",
    "        print(\"\\nepoch {}/{}\".format(epoch+1,EPOCHS))\n",
    "        pb_epoch = Progbar(len(X), stateful_metrics=metrics_names)\n",
    "        for idx in range(num_of_batches):\n",
    "            time.sleep(0.3)\n",
    "            start_at = idx * BATCH_SIZE\n",
    "            end_at = start_at + BATCH_SIZE\n",
    "            epoch_loss_avg, epoch_accuracy = train_batch(X[start_at:end_at], Y[start_at:end_at])\n",
    "        train_loss_results.append(epoch_loss_avg.result())\n",
    "        train_accuracy_results.append(epoch_accuracy.result())\n",
    "        \n",
    "        values=[('loss', epoch_loss_avg.result()), ('accuracy', epoch_accuracy.result())]\n",
    "        pb_epoch.add(BATCH_SIZE, values=values)\n",
    "    \n",
    "    print('\\n========= Training Ended ===========')\n"
   ]
  },
  {
   "cell_type": "code",
   "execution_count": 38,
   "metadata": {},
   "outputs": [
    {
     "name": "stdout",
     "output_type": "stream",
     "text": [
      "\n",
      "epoch 1/5\n",
      "210/420 [==============>...............] - ETA: 38s - loss: 0.9688 - accuracy: 0.7465\n",
      "epoch 2/5\n",
      "210/420 [==============>...............] - ETA: 37s - loss: 0.9686 - accuracy: 0.7978\n",
      "epoch 3/5\n",
      "210/420 [==============>...............] - ETA: 37s - loss: 0.9682 - accuracy: 0.8265\n",
      "epoch 4/5\n",
      "210/420 [==============>...............] - ETA: 36s - loss: 0.9677 - accuracy: 0.8422\n",
      "epoch 5/5\n",
      "210/420 [==============>...............] - ETA: 36s - loss: 0.9666 - accuracy: 0.8521\n",
      "========= Training Ended ===========\n"
     ]
    }
   ],
   "source": [
    "train_all(X_train, Y_train)"
   ]
  },
  {
   "cell_type": "code",
   "execution_count": 39,
   "metadata": {},
   "outputs": [],
   "source": [
    "def visualize_losses():\n",
    "    fig, axes = plt.subplots(2, sharex=True, figsize=(12, 8))\n",
    "    fig.suptitle('Training Metrics')\n",
    "\n",
    "    axes[0].set_ylabel(\"Loss\", fontsize=14)\n",
    "    axes[0].plot(train_loss_results)\n",
    "\n",
    "    axes[1].set_ylabel(\"Accuracy\", fontsize=14)\n",
    "    axes[1].set_xlabel(\"Epoch\", fontsize=14)\n",
    "    axes[1].plot(train_accuracy_results)\n",
    "    plt.show()"
   ]
  },
  {
   "cell_type": "code",
   "execution_count": 40,
   "metadata": {
    "scrolled": false
   },
   "outputs": [
    {
     "data": {
      "image/png": "[encoded data removed]",
      "text/plain": [
       "<Figure size 864x576 with 2 Axes>"
      ]
     },
     "metadata": {
      "needs_background": "light"
     },
     "output_type": "display_data"
    }
   ],
   "source": [
    "visualize_losses()"
   ]
  },
  {
   "cell_type": "code",
   "execution_count": null,
   "metadata": {},
   "outputs": [],
   "source": []
  }
 ],
 "metadata": {
  "kernelspec": {
   "display_name": "deep",
   "language": "python",
   "name": "deep"
  },
  "language_info": {
   "codemirror_mode": {
    "name": "ipython",
    "version": 3
   },
   "file_extension": ".py",
   "mimetype": "text/x-python",
   "name": "python",
   "nbconvert_exporter": "python",
   "pygments_lexer": "ipython3",
   "version": "3.7.6"
  }
 },
 "nbformat": 4,
 "nbformat_minor": 4
}
